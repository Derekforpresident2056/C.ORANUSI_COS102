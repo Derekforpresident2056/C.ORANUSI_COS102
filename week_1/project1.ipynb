{
 "cells": [
  {
   "cell_type": "code",
   "execution_count": 3,
   "id": "fd1ad02c-4e39-4287-9675-4cbad065d267",
   "metadata": {},
   "outputs": [
    {
     "name": "stdin",
     "output_type": "stream",
     "text": [
      "ENTER THE PRINCIPLE:   4\n",
      "ENTER THE RATE:   5\n",
      "ENTER THE TIME:   6\n"
     ]
    },
    {
     "name": "stdout",
     "output_type": "stream",
     "text": [
      "THE SIMPLE INTEREST IS:  5.2\n"
     ]
    }
   ],
   "source": [
    "P = input(\"ENTER THE PRINCIPLE:  \")\n",
    "R = input(\"ENTER THE RATE:  \")\n",
    "T = input(\"ENTER THE TIME:  \")\n",
    "\n",
    "PI = int(P)\n",
    "RI = int(R)\n",
    "TI = int(T)\n",
    "\n",
    "RR = RI / 100\n",
    "RT = RR * TI\n",
    "B = RT + 1\n",
    "A = B * PI\n",
    "\n",
    "print(\"THE SIMPLE INTEREST IS: \",A)"
   ]
  },
  {
   "cell_type": "code",
   "execution_count": 23,
   "id": "14c3bd39-ff1d-4fdd-9ab0-63a2898a0cfe",
   "metadata": {},
   "outputs": [
    {
     "name": "stdin",
     "output_type": "stream",
     "text": [
      "ENTER THE PRINCIPLE:   4\n",
      "ENTER THE RATE:   5\n",
      "ENTER THE TIME:   6\n",
      "ENTER THE NUMBER OF YEARS:   7\n"
     ]
    },
    {
     "name": "stdout",
     "output_type": "stream",
     "text": [
      "THE COMPOUND INTEREST IS: 27136550739.84931\n"
     ]
    }
   ],
   "source": [
    "P = input(\"ENTER THE PRINCIPLE:  \")\n",
    "R = input(\"ENTER THE RATE:  \")\n",
    "T = input(\"ENTER THE TIME:  \")\n",
    "N = input(\"ENTER THE NUMBER OF YEARS:  \")\n",
    "\n",
    "PI = int(P)\n",
    "RI = int(R)\n",
    "TI = int(T)\n",
    "NI = int(N)\n",
    "\n",
    "RN = RI / NI\n",
    "B = 1 + RN\n",
    "NT = NI * TI\n",
    "BE = B**NT\n",
    "PB = PI * BE\n",
    "print(\"THE COMPOUND INTEREST IS:\",PB)\n"
   ]
  },
  {
   "cell_type": "code",
   "execution_count": 24,
   "id": "d99e13f4-4876-4569-912b-c648eed3fa93",
   "metadata": {},
   "outputs": [
    {
     "name": "stdin",
     "output_type": "stream",
     "text": [
      "ENTER THE PRINCIPLE:   5\n",
      "ENTER THE RATE:   4\n",
      "ENTER THE TIME:   3\n",
      "ENTER THE NUMBER OF YEARS:   6\n",
      "ENTER THE ANNUITY PAYMENT:   4\n"
     ]
    },
    {
     "name": "stdout",
     "output_type": "stream",
     "text": [
      "59072.402520290976\n"
     ]
    }
   ],
   "source": [
    "P = input(\"ENTER THE PRINCIPLE:  \")\n",
    "R = input(\"ENTER THE RATE:  \")\n",
    "T = input(\"ENTER THE TIME:  \")\n",
    "N = input(\"ENTER THE NUMBER OF YEARS:  \")\n",
    "PMT = input(\"ENTER THE ANNUITY PAYMENT:  \")\n",
    "\n",
    "PI = int(P)\n",
    "RI = int(R)\n",
    "TI = int(T)\n",
    "NI = int(N)\n",
    "PT = int(PMT)\n",
    "\n",
    "RN = RI / NI\n",
    "B = 1 + RN\n",
    "NT = NI * TI\n",
    "BE = B**NT\n",
    "BN = BE - 1\n",
    "FR = BN / RN\n",
    "A = PT * FR\n",
    "\n",
    "print(\":THE ANNUITY PLAN IS:  \",A)\n"
   ]
  }
 ],
 "metadata": {
  "kernelspec": {
   "display_name": "Python 3 (ipykernel)",
   "language": "python",
   "name": "python3"
  },
  "language_info": {
   "codemirror_mode": {
    "name": "ipython",
    "version": 3
   },
   "file_extension": ".py",
   "mimetype": "text/x-python",
   "name": "python",
   "nbconvert_exporter": "python",
   "pygments_lexer": "ipython3",
   "version": "3.11.7"
  }
 },
 "nbformat": 4,
 "nbformat_minor": 5
}
